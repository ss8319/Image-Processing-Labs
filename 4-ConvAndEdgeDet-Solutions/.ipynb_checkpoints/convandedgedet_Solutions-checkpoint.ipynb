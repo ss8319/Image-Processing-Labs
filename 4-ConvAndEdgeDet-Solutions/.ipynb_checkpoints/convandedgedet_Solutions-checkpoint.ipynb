{
 "cells": [
  {
   "cell_type": "markdown",
   "id": "incorporated-animal",
   "metadata": {
    "deletable": false,
    "editable": false
   },
   "source": [
    "<div align='center'><div align='center'>\n",
    "    \n",
    "## Image Processing\n",
    "\n",
    "### Convolution and Edge Detection\n",
    "\n",
    "#### Version 1.0, 8th Mar, 2022\n",
    "</div>"
   ]
  },
  {
   "cell_type": "markdown",
   "id": "attempted-obligation",
   "metadata": {
    "deletable": false,
    "editable": false
   },
   "source": [
    "Begin this session by reviewing the Practical on image display and colourmaps; this will be useful to interpret\n",
    "the results of convolution. "
   ]
  },
  {
   "cell_type": "markdown",
   "id": "immediate-incident",
   "metadata": {
    "deletable": false,
    "editable": false
   },
   "source": [
    "### 4.1 One-Dimensional Edge Map\n",
    "Understanding convolution gives you another way to look at the link between classical mathematical ideas and the techniques we regularly use for image, signal and data analysis.\n",
    "\n",
    "We are going to start with the idea of creating a simple detector on a series of values -- a one-dimensional signal -- in order to detect a substantial change in the values as we move through the signal from one end to the other. This idea can be used to detect sudden changes in the state of something, including in physiological measurements; we are going to look at several levels of interpretation."
   ]
  },
  {
   "cell_type": "code",
   "execution_count": 30,
   "id": "painful-heath",
   "metadata": {},
   "outputs": [],
   "source": [
    "import numpy as np\n",
    "import matplotlib.pyplot as plt\n",
    "from scipy.signal import convolve2d as conv2"
   ]
  },
  {
   "cell_type": "code",
   "execution_count": 31,
   "id": "given-keeping",
   "metadata": {
    "tags": [
     "hide-input"
    ]
   },
   "outputs": [
    {
     "data": {
      "text/html": [
       "<div>\n",
       "<style scoped>\n",
       "    .dataframe tbody tr th:only-of-type {\n",
       "        vertical-align: middle;\n",
       "    }\n",
       "\n",
       "    .dataframe tbody tr th {\n",
       "        vertical-align: top;\n",
       "    }\n",
       "\n",
       "    .dataframe thead th {\n",
       "        text-align: right;\n",
       "    }\n",
       "</style>\n",
       "<table border=\"1\" class=\"dataframe\">\n",
       "  <thead>\n",
       "    <tr style=\"text-align: right;\">\n",
       "      <th></th>\n",
       "      <th>0</th>\n",
       "      <th>1</th>\n",
       "      <th>2</th>\n",
       "      <th>3</th>\n",
       "      <th>4</th>\n",
       "      <th>5</th>\n",
       "      <th>6</th>\n",
       "      <th>7</th>\n",
       "      <th>8</th>\n",
       "      <th>9</th>\n",
       "      <th>10</th>\n",
       "      <th>11</th>\n",
       "      <th>12</th>\n",
       "      <th>13</th>\n",
       "    </tr>\n",
       "  </thead>\n",
       "  <tbody>\n",
       "    <tr>\n",
       "      <th>Input, $f(n)$</th>\n",
       "      <td>0</td>\n",
       "      <td>0</td>\n",
       "      <td>5</td>\n",
       "      <td>10</td>\n",
       "      <td>200</td>\n",
       "      <td>201</td>\n",
       "      <td>203</td>\n",
       "      <td>198</td>\n",
       "      <td>202</td>\n",
       "      <td>130</td>\n",
       "      <td>90</td>\n",
       "      <td>12</td>\n",
       "      <td>0</td>\n",
       "      <td>0</td>\n",
       "    </tr>\n",
       "    <tr>\n",
       "      <th>$d(n)$</th>\n",
       "      <td>0</td>\n",
       "      <td>5</td>\n",
       "      <td>5</td>\n",
       "      <td>190</td>\n",
       "      <td>1</td>\n",
       "      <td>2</td>\n",
       "      <td>-5</td>\n",
       "      <td>4</td>\n",
       "      <td>-72</td>\n",
       "      <td>-40</td>\n",
       "      <td>-78</td>\n",
       "      <td>-12</td>\n",
       "      <td>0</td>\n",
       "      <td>0</td>\n",
       "    </tr>\n",
       "    <tr>\n",
       "      <th>|$d(n)$|</th>\n",
       "      <td>0</td>\n",
       "      <td>5</td>\n",
       "      <td>5</td>\n",
       "      <td>190</td>\n",
       "      <td>1</td>\n",
       "      <td>2</td>\n",
       "      <td>5</td>\n",
       "      <td>4</td>\n",
       "      <td>72</td>\n",
       "      <td>40</td>\n",
       "      <td>78</td>\n",
       "      <td>12</td>\n",
       "      <td>0</td>\n",
       "      <td>0</td>\n",
       "    </tr>\n",
       "    <tr>\n",
       "      <th>$e(n)$</th>\n",
       "      <td>0</td>\n",
       "      <td>0</td>\n",
       "      <td>0</td>\n",
       "      <td>1</td>\n",
       "      <td>0</td>\n",
       "      <td>0</td>\n",
       "      <td>0</td>\n",
       "      <td>0</td>\n",
       "      <td>0</td>\n",
       "      <td>0</td>\n",
       "      <td>0</td>\n",
       "      <td>0</td>\n",
       "      <td>0</td>\n",
       "      <td>0</td>\n",
       "    </tr>\n",
       "  </tbody>\n",
       "</table>\n",
       "</div>"
      ],
      "text/plain": [
       "               0   1   2    3    4    5    6    7    8    9   10  11  12  13\n",
       "Input, $f(n)$   0   0   5   10  200  201  203  198  202  130  90  12   0   0\n",
       "$d(n)$          0   5   5  190    1    2   -5    4  -72  -40 -78 -12   0   0\n",
       "|$d(n)$|        0   5   5  190    1    2    5    4   72   40  78  12   0   0\n",
       "$e(n)$          0   0   0    1    0    0    0    0    0    0   0   0   0   0"
      ]
     },
     "execution_count": 31,
     "metadata": {},
     "output_type": "execute_result"
    }
   ],
   "source": [
    "# The code below is NOT something we will explore: \n",
    "# it is just being used as a conveninence function\n",
    "# to be able to generate the pretty looking table\n",
    "# in the cell below this\n",
    "# NOTE: you may need to run conda install pandas for the \n",
    "# following lines to work. We will not be going into \n",
    "# pandas in any detai: it is just a convenience package\n",
    "import pandas as pd\n",
    "raw_data={\n",
    "    'Input, $f(n)$': [0,0,5,10,200,201,203,198,202,130,90,12,0,0],\n",
    "    '$d(n)$ ': [0,5,5,190,1,2,-5,4,-72,-40,-78,-12,0,0],\n",
    "    '|$d(n)$|': [0,5,5,190,1,2,5,4,72,40,78,12,0,0],\n",
    "    '$e(n)$': [0,0,0,1,0,0,0,0,0,0,0,0,0,0]\n",
    "        }\n",
    "\n",
    "df = pd.DataFrame(raw_data).T\n",
    "df"
   ]
  },
  {
   "cell_type": "markdown",
   "id": "ordered-seller",
   "metadata": {
    "deletable": false,
    "editable": false
   },
   "source": [
    "Look carefully at the the relationship between the input, $f(n)$ and the result of the first step, which yields $d(n$). You can see that there is a simple algorithm to go from $f(n)$ to $d(n)$, which is given by:\n",
    "\n",
    "$$\n",
    "d(n) = f(n+1) - f(n),  \\,\\, n=0, 1, 2,...12\\,\\,\\, Eq. (A)\n",
    "$$\n",
    "\n",
    "We have to figure out what we do at sample number 13 of the above example: here, I have just repeated the last value, $d(12)$ value in the absence of further information.\n",
    "\n",
    "This operation, to produce $d(n)$ from $f(n)$, is what is known as a _linear_ operation: it only involves subtraction. The second step of the opeartion toward producing an edge map is to take the _absolute_ value of $d(n)$, yielding the second line after the input in the table. This is sometimes referred to as an _edge strength_ signal (when done in 2D). \n",
    "\n",
    "In taking the absolute value of $d(n)$, we are performing a _non-linear_ operation: this step can't be taken using addition/subtraction or multiplication by some constant.\n",
    "\n",
    "The third step, which produces a binary _edge-map_, $e(n)$, is simply done by applying a _decision_ process on each value of $|d(n)|$ separately, which in this case is a simple thresholding operation:\n",
    "\n",
    "$$\n",
    "e(n) = \\left \\lbrace \\begin{array}{lcl}\n",
    "  1 &:& |d(n)| \\ge T \\\\\n",
    "  0 &:& \\textrm{otherwise}\n",
    "\\end{array} \\right . \n",
    "$$\n",
    "               for $n=0,1,2,...13$."
   ]
  },
  {
   "cell_type": "markdown",
   "id": "violent-reviewer",
   "metadata": {
    "deletable": false,
    "editable": false
   },
   "source": [
    "**Question (not quite a quiz....)**\n",
    "What is the possible range of thresholds (values of $T$) that might plausibly have been used to produce $e(n)$ in the example above?"
   ]
  },
  {
   "cell_type": "markdown",
   "id": "gentle-engagement",
   "metadata": {
    "deletable": false,
    "editable": false
   },
   "source": [
    "<div style=\"background:#EEEEFF;color:black\">\n",
    "    \n",
    "**Exercise 4.1**\n",
    "\n",
    "In _Python_, write a function (`onestepdiff()`) that takes $f(n)$ as input and produces $d(n)$ as output. You do not need to produce a function to produce the other lines of $|d(n)|$ or $e(n)$ unless you feel like doing so!\n",
    "    \n",
    "Check your code with this call...\n",
    "   `onestepdiff([0,0,5,10,200,201,203,198,202,130,90,12,0,0])`\n",
    "\n",
    "</div>"
   ]
  },
  {
   "cell_type": "markdown",
   "id": "fabulous-ambassador",
   "metadata": {
    "deletable": false,
    "editable": false
   },
   "source": [
    "<details>\n",
    "   \n",
    "<summary> Click <b> here </b> for two possible solutions of <b>Ex 4.1</b>. </summary>\n",
    "\n",
    "Here is the obvious way of doing this: with a loop:    \n",
    "\n",
    "```python\n",
    "\n",
    "def onestepdifference(f):\n",
    "    d=[]\n",
    "    for n in range(len(f)-1):\n",
    "        d.append(f[n+1]-f[n])\n",
    "     \n",
    "    # Appends last item using negative indexing to...\n",
    "    # ...repeat last element\n",
    "    d.append(d[-1])\n",
    "    \n",
    "    return d\n",
    "\n",
    "    \n",
    "```\n",
    "    \n",
    "```python\n",
    "\n",
    "def onestepdifference(f):\n",
    "    f = np.asarray(f, dtype=float)\n",
    "    d = np.zeros(np.shape(f), dtype=float)\n",
    "    \n",
    "    # We'd hope the following is fast (but less readable)\n",
    "    # But it might not be, depending on how it is  \n",
    "    # interpreted by the _Python_ interpreter\n",
    "    d[0:-1] = f[1:]-f[0:-1] # \"Vector subtract\"\n",
    "    d[len(d)-2] = d[len(d)-1] # Handle boundary of array\n",
    "    \n",
    "    return d\n",
    "    \n",
    "```\n",
    "    \n",
    "</details>\n"
   ]
  },
  {
   "cell_type": "markdown",
   "id": "charged-springfield",
   "metadata": {
    "deletable": false,
    "editable": false
   },
   "source": [
    "### 4.2 Finite Difference and Derivatives\n",
    "\n",
    "We are now going to look explicitly at the relationship between finite differences and the analytic derivatives of a function. We consider this because traditional engineering, science an mathematics programmes do not link the concepts of calculus particularly well with those of data analysis. We will try to make that link a bit more explicit.\n",
    "\n",
    "Let's recall the definition for the deivative of a continuous function $y$ of some variable $x$. We might remember that, given $y=f(x)$:\n",
    "\n",
    "$$\n",
    "\\frac{dy}{dx} = \\lim_{\\delta x\\rightarrow 0} \\frac{f(x+\\delta x) - f(x)}{\\delta x}\\,\\,\\,\\,   Eq. (B)\n",
    "$$\n",
    "\n",
    "Here, the limit in the Eq (B) is telling us that this definition holds as we compare (subtract) values of the function $f(x)$ at two locations that are a vanishingly small distance apart, and scale this difference inversely by the distance between the points of comparison. We might also remember that this gives us the slope of the tangent to the curve $y=f(x)$.\n",
    "\n",
    "If we consider the case of a _discrete_ function of a variable $n$, then we should be able to see that the smallest distance we can have between two samples is 1 (that is, at a point $n$ and $n+1$); and we are scaling this by 1 (of courses, we are not _actually_ dividing the subtraction of Eq. (A) b anything)! \n",
    "\n",
    "So, Eq (A) may be thought of as an approximation to the derivative of Eq (B). It is also sometimes known as the _finite difference_ operation."
   ]
  },
  {
   "cell_type": "markdown",
   "id": "small-suggestion",
   "metadata": {
    "deletable": false,
    "editable": false
   },
   "source": [
    "<div class=\"alert alert-info\">\n",
    "\n",
    "The mathematically minded may point out that there is more than one way to write down the fundamental definition of a derivative. I would add that there is also more than one way to define the finite difference operator.\n",
    "\n",
    "Another point may occur: we have discussed sub-pixel precision on measurements in Chapter 2: can the same not be applied in this case, allowing us to have a definitionthat works on a discrete grid, but which interpolates samples in between the samples? The answer is yes, but from a practical point of view, derivatives that attempt to do this using only two samples are quite unstable when applied to real (measured) data. The ability to get something closer to the true definition of a derivative (vanishingly small difference between the points being compared) is the _analytical_ definition, but when applied to real data, a more useful idea is to take detivatives over different _scales_ of $f(n)$. This is beyond the scope of this discussion but we hint at at how to do it in images.\n",
    "\n",
    "</div>"
   ]
  },
  {
   "cell_type": "markdown",
   "id": "dangerous-dublin",
   "metadata": {
    "deletable": false,
    "editable": false
   },
   "source": [
    "### 4.3 Finite Difference and Convolution\n",
    "\n",
    "Now we come to an intuitive look at 1D convolutution. Let us express the 1 dimensional convolution between two real-valued discrete sequences (arrays of numbers) as (this is a textbook definition!):\n",
    "\n",
    "$$\n",
    "g(n) = \\sum_{m=-\\infty}^{m=\\infty} f(m)h(n-m) = \\sum_{m=-\\infty}^{m=\\infty}h(m)f(n-m)\\,\\,\\,\\,\\, \\forall n, \\,\\,\\, Eq. (C)\n",
    "$$\n",
    "\n",
    "In Eq. (C), $h$ represents a 1-dimensional convolution mask, and $f(n)$ represents the input data.\n",
    "\n",
    "This horrid looking _infinite_ set of _infinite_ summations collapses to an _infinite_ set of _finite_ sums if we only have a finite sized mask, and collapses further  if the signal, $f(n)$ only has a finite number of non-zero samples. \n",
    "\n",
    "For example, if the mask, $h(m)$ has only 3 values, and they are centered on the 0 index of the array $h(n)$, then we can rewrite Eq. (C) like so:\n",
    "\n",
    "$$\n",
    "g(n) = \\sum_{m=-1}^{m=1}h(m)f(n-m)\\,\\,\\,\\,\\, \\forall n, \\,\\,\\, Eq. (D)\n",
    "$$\n",
    "\n",
    "Let us perform (evaluate) this calculation for one value of $n$ given the input sequence used in the first exercise. "
   ]
  },
  {
   "cell_type": "markdown",
   "id": "nuclear-elimination",
   "metadata": {
    "deletable": false,
    "editable": false
   },
   "source": [
    "We'll start with the general expression first (assuming the value of $n$ is now fixed; putting a specific value in, like $n=5$, won't change this):\n",
    "\n",
    "$$\n",
    "g(n) = \\sum_{m=-1}^{m=1}h(m)f(n-m) = h(-1)f(n+1) + h(0)f(n) + h(1)f(n-1)\n",
    "$$\n",
    "\n",
    "where all I have done is to \"unravel\" the summation, and what we have here is just Eq. (D) for a specific value of $n$.\n",
    "\n",
    "If we now want $g(n)$ to implement a finite difference operation (i.e. $d(n)$ in our earlier example), then equating the calculation of $g(n)$ (general) with the specific calculation for $d(n)$ gives allows us to equate the multipliers of $f()$ in both expressions. For the term in $m=-1$, we have:\n",
    "\n",
    "$$h(-1) = 1,$$ because $f(n+1)$ appears with an implicit multiplication of 1.\n",
    "\n",
    "$$h(0)  = -1,$$ because $f(n)$ appears with an explicit multiplication of -1\n",
    "\n",
    "$$h(1) = 0,$$ because $f(n-1)$ does not appear at all in the expression for $d(n)$ given in Eqn (A)!\n",
    "\n",
    "This tells us that if we implement a 1D convolution between $f(n)$ and a three-element convolution mask with $h(-1) = 1$, $h(0)=-1$ and $h(1)=0$, we get a finite difference operation."
   ]
  },
  {
   "cell_type": "markdown",
   "id": "rocky-dayton",
   "metadata": {
    "deletable": false,
    "editable": false
   },
   "source": [
    "<div style=\"background:#EEEEFF;color:black\">\n",
    "    \n",
    "**Exercise 4.2**\n",
    "\n",
    "In _Python_, write a function (`myconv1()`) that takes $f(n)$ and a convolution mask of just three samples as input and produces $g(n)$ as output. \n",
    "    \n",
    "Input $f(n)$ and $h(n)$ using respective values we have used so far for $f(n)$ (the signal) and for the $h(n)$ (the mask) that we have determined in the exercise above.\n",
    "    \n",
    "Check that the result matches (perhaps with missing samples, or shifts in one direction or the other - don't worry too much) the original $d(n)$ that was presented in the Table at the start of this Notebook, and the `onestepdifference()` that you had previously calculated.\n",
    "\n",
    "**NB** `numpy` has a `convolve()` function, but it is _cheating_ to use it for this little exercise: I have simplified this exercise so the mask only has 3 values....:-)\n",
    "    \n",
    "</div>"
   ]
  },
  {
   "cell_type": "markdown",
   "id": "b97dd534-a34f-4702-b49d-92f08ee614c2",
   "metadata": {
    "deletable": false,
    "editable": false
   },
   "source": [
    "<details><summary> Click <b> here</b> for one possible solution.</summary>\n",
    "\n",
    "```python\n",
    "    \n",
    "def myconv1(f,h):\n",
    "    g=[] # g will hold the output\n",
    "    for n in range(1, len(f)-1):\n",
    "        g.append(h[2]*f[n-1]+h[1]*f[n]+h[0]*f[n+1])\n",
    "     \n",
    "    # Appends last item using negative indexing to...\n",
    "    # ...repeat first and last element\n",
    "    g.append(g[-1])\n",
    "    g.insert(0,g[0])\n",
    "    \n",
    "    return g\n",
    "```\n",
    "\n",
    "Note: In this answer, I have repeated the first and last values in the convolution; this is an alternative form of boundaty handling (we have to do *something* at those boundaries of the array! You may also choose to extend the length of the input signal and pad the values with zero. The objective of this strange tomfoolery?  So we can get the length of the output of convolution to be comparable (and aligned) with the input data. There are many possible ways to achieve this, and there is no _one_ simple, correct way.\n",
    "\n",
    "One principled way of doing this is to supply a second channel that indicates where a calculation might be relying on unseen data, but this is not widely used (the signal/certainty idea of Granlund and Knutsson).\n",
    "</details>"
   ]
  },
  {
   "cell_type": "code",
   "execution_count": 32,
   "id": "18cd9780-7337-43eb-9ca1-0aa00f71747c",
   "metadata": {},
   "outputs": [],
   "source": [
    "def myconv1(f,h):\n",
    "    g=[] # g will hold the output\n",
    "    for n in range(1, len(f)-1):\n",
    "        g.append(h[2]*f[n-1]+h[1]*f[n]+h[0]*f[n+1])\n",
    "     \n",
    "    # Appends last item using negative indexing to...\n",
    "    # ...repeat first and last element\n",
    "    g.append(g[-1])\n",
    "    g.insert(0,g[0])\n",
    "    \n",
    "    return g"
   ]
  },
  {
   "cell_type": "code",
   "execution_count": 33,
   "id": "51ef1c2f-e21d-4e78-be49-33f654d22686",
   "metadata": {},
   "outputs": [
    {
     "data": {
      "text/plain": [
       "[5, 5, 5, 190, 1, 2, -5, 4, -72, -40, -78, -12, 0, 0]"
      ]
     },
     "execution_count": 33,
     "metadata": {},
     "output_type": "execute_result"
    }
   ],
   "source": [
    "myconv1([0,0,5,10,200,201,203,198,202,130,90,12,0,0],[1,-1,0])"
   ]
  },
  {
   "cell_type": "markdown",
   "id": "disturbed-meditation",
   "metadata": {
    "deletable": false,
    "editable": false
   },
   "source": [
    "<div class=\"alert alert-warning\">\n",
    "\n",
    "The first time you encounter this, there is often alot of angst about the fact that we are using negative variables for indexing in the mathematical expressions, but we can only index from 0 in programming (and only 1 in some languages!). This is just a detail of what you decide to call your \"index 0\" sample; in practice, the only real issue this poses is that you may have a shift in your output with respect to what the \"paper based\" maths tells you. It is not something to loose sleep over: it is only ever a matter of housekeeping between the maths and coding.\n",
    "\n",
    "</div>"
   ]
  },
  {
   "cell_type": "markdown",
   "id": "wireless-rolling",
   "metadata": {
    "deletable": false,
    "editable": false
   },
   "source": [
    "<div style=\"background:#EEEEFF;color:black\">\n",
    "    \n",
    "**Exercise 4.3**\n",
    "\n",
    "Using your function (`myconv1()`) or the in-built `np.convolve()` function, check the output of convolution when you use the same input signal as above, but instead use the following masks (using a _Python_ list like format for description):\n",
    "\n",
    "h = [0, 1.0, -1.0]\n",
    "    \n",
    "h = [0.333, 0.333, 0.333]\n",
    "\n",
    "If you are use the `np.convolve()` function, you can specify the options of `\"full\"`, `\"same\"` or `\"valid\"`. Try to figure out what these do.... This will come in handy for the 2D convolution to follow.\n",
    "\n",
    "_Hint_: these options to the  provide different lengths of outputs, depending on whether you want to consider all possible shifts of mask which provide at least some some overlap with the input $f(n)$ as the mask is shifted; or, only consider values for which there is full mask and signal overlap; or, want an output of the same length as input signal. For the latter to work properly, the input should be the first argument in the call to `np.convolve()`. \n",
    "    \n",
    "</div>"
   ]
  },
  {
   "cell_type": "markdown",
   "id": "3d72b6d2-62db-47ba-895f-465d6861ff8e",
   "metadata": {
    "deletable": false,
    "editable": false
   },
   "source": [
    "<details>\n",
    "    <summary> Click <b>here</b> to see the solution (easy!) </summary>\n",
    "\n",
    "```\n",
    "    \n",
    "f = [0,0,5,10,200,201,203,198,202,130,90,12,0,0]\n",
    "h = [0, 1.0, -1.0]\n",
    "g = np.convolve(f,h,'same')\n",
    "    \n",
    "```\n",
    "\n",
    "In this case, we see that we get something very similar to the mask used in Ex 4.2, but the values are shifted over by one sample (perhaps 2, depending on how you have handled your boundaries: repetition of first and last values, or by zero padding). The result is the same because the non-zero mask values define the same relative operation between pairs of values in the signal!\n",
    "    \n",
    "Now, with the second mask:\n",
    "\n",
    "```python\n",
    "    \n",
    "f = [0,0,5,10,200,201,203,198,202,130,90,12,0,0]\n",
    "h = [1.0, 1.0, 1.0]/3  # Check!\n",
    "g = np.convolve(f,h,'same')\n",
    "\n",
    "```\n",
    "\n",
    "This is a simple 3-point running average or sliding averager. Check to make sure this makes sense (use a calculator, if you wish).\n",
    "    \n",
    "</details>"
   ]
  },
  {
   "cell_type": "markdown",
   "id": "97fb50e6-de39-4fc9-be28-e37480bfa449",
   "metadata": {
    "deletable": false,
    "editable": false
   },
   "source": [
    "<div style=\"background:#EEEEFF;color:black\">\n",
    "    \n",
    "**Exercise 4.4**\n",
    "\n",
    "Show that by using a mask defined as follows:\n",
    "\n",
    "$$\n",
    "h(n) = [1, -2, 1]\n",
    "$$\n",
    "    \n",
    "for $n$ = 0,1,2 and zero otherwise, you can implement an approximate second-order finite difference (i.e. finite difference of finite difference!).\n",
    "    \n",
    "</div>"
   ]
  },
  {
   "cell_type": "markdown",
   "id": "5d623ee7-f2b8-4b09-8389-e431a1f9bb11",
   "metadata": {
    "deletable": false,
    "editable": false
   },
   "source": [
    "<details>\n",
    "    \n",
    "<summary> Click <b>here</b> to see how to derive this.... </summary>\n",
    "\n",
    "    To get a finite difference of finite difference, which is an approximation to the <b>second</b> order derivative, you simply apply the finite difference definition to the first order:\n",
    "\n",
    "dd(n) = d(n+1) - d(n)\n",
    "      \n",
    "      = f(n+1+1) - f(n+1) - (f(n+1) - f(n))\n",
    "    \n",
    "      = f(n+2) - 2f(n+1) + f(n)\n",
    "  \n",
    "So that a 3 point mask is sufficient, provided that we remember that there is an extra shift of one sample that we need to take care with in relating the output of the convolution to the second order difference computation. We can, of course, also use a larger (wider) mask as well, but with all but three values being zero.\n",
    "</details>"
   ]
  },
  {
   "cell_type": "markdown",
   "id": "caroline-organizer",
   "metadata": {
    "deletable": false,
    "editable": false
   },
   "source": [
    "### 4.4 The gradient field of an image\n",
    "\n",
    "The `scipy` library has a two dimensional convolution routine that works a bit like the one-dimensional `convolve` function. It is modelled on the _Matlab_ equivalent 2D function, which - to my knowledge - was the first to implement the options of \"same\", \"valid\" etc as options, which are quite practical options to the command. \n",
    "\n",
    "We will be using this `convolve2` function (which is loaded as `conv2` earlier in this notebook) to generate estimates of the rate of change of intensities in the row and column directions.\n",
    "\n",
    "For the row direction, we will use this mask:\n",
    "$$\n",
    "h_m(m,n) = \\frac{1}{6}\\left [ \\begin{array}{ccc}\n",
    "  1 & 1 & 1 \\\\\n",
    "  0 & 0 & 0 \\\\\n",
    "  -1 & -1 & -1 \n",
    "\\end{array} \\right ] \n",
    "$$\n",
    "and for the column direction, we will use this:\n",
    "$$\n",
    "h_n(m,n) = \\frac{1}{6}\n",
    "\\left [ \\begin{array}{ccc}\n",
    "  1 & 0 & -1 \\\\\n",
    "  1 & 0 & -1 \\\\\n",
    "  1 & 0 & -1 \n",
    "\\end{array} \\right ] \n",
    "$$\n",
    "\n",
    "This pair is known as the _Prewitt_ masks."
   ]
  },
  {
   "cell_type": "markdown",
   "id": "cubic-matter",
   "metadata": {
    "deletable": false,
    "editable": false
   },
   "source": [
    "<div style=\"background:#EEEEFF;color:black\">\n",
    "    \n",
    "**Exercise 4.5**\n",
    "\n",
    "You are given a test image stored in the file `square.npy` with this notebook; apply the gradient masks to this image to estimate the two gradient components. Display the components separately as images, with a gray scale colour map. You can load the test image using:\n",
    "    \n",
    "`square = np.load('square.npy')`\n",
    "\n",
    "\n",
    "    \n",
    "</div>"
   ]
  },
  {
   "cell_type": "markdown",
   "id": "material-signature",
   "metadata": {
    "deletable": false,
    "editable": false
   },
   "source": [
    "<details>\n",
    "    <summary> Click <b> here </b> for the answer to <b>Ex. 4.4</b> </summary>\n",
    "\n",
    "```python\n",
    "\n",
    "square=np.load('square.npy')\n",
    "h_m = np.asarray([[1, 1, 1],[0, 0, 0],[-1, -1, -1]],\n",
    "                 dtype='float')/6.0\n",
    "h_n = np.asarray([[1, 0, -1],[1, 0, -1],[1, 0, -1]], \n",
    "                 dtype='float')/6.0\n",
    "gm = conv2(square,h_m,'same')\n",
    "gn = conv2(square,h_n,'same')\n",
    "fig,axs = plt.subplots(1,2)\n",
    "axs[0].imshow(gm,cmap='gray')\n",
    "axs[1].imshow(gn,cmap='gray')\n",
    "\n",
    "```\n",
    "</details>"
   ]
  },
  {
   "cell_type": "code",
   "execution_count": 34,
   "id": "8a4fff69-fd1b-49ac-ac33-1fa804586766",
   "metadata": {},
   "outputs": [
    {
     "data": {
      "text/plain": [
       "<matplotlib.image.AxesImage at 0x129669450>"
      ]
     },
     "execution_count": 34,
     "metadata": {},
     "output_type": "execute_result"
    },
    {
     "data": {
      "image/png": "[encoded data removed]",
      "text/plain": [
       "<Figure size 432x288 with 2 Axes>"
      ]
     },
     "metadata": {
      "needs_background": "light"
     },
     "output_type": "display_data"
    }
   ],
   "source": [
    "# Delete me for No Solutions\n",
    "%matplotlib inline\n",
    "square=np.load('square.npy')\n",
    "h_m = np.asarray([[1, 1, 1],[0, 0, 0],[-1, -1, -1]],\n",
    "                 dtype='float')/6.0\n",
    "h_n = np.asarray([[1, 0, -1],[1, 0, -1],[1, 0, -1]], \n",
    "                 dtype='float')/6.0\n",
    "gm = conv2(square,h_m,'same')\n",
    "gn = conv2(square,h_n,'same')\n",
    "fig,axs = plt.subplots(1,2)\n",
    "axs[0].imshow(gm,cmap='gray')\n",
    "axs[1].imshow(gn,cmap='gray')"
   ]
  },
  {
   "cell_type": "markdown",
   "id": "approximate-parade",
   "metadata": {
    "deletable": false,
    "editable": false
   },
   "source": [
    "**Interlude**\n",
    "To make sure you understand the result, it is sensible to either\n",
    "\n",
    " - display the image in an internal viewer, rather  than `inline`, then use the data cursor to investigate the values held in the image array OR \n",
    " \n",
    " - plot a profile through the centre row of `gn` or the centre column of `gm` by using a command like this: `plt.plot(gn[80,:])`"
   ]
  },
  {
   "cell_type": "markdown",
   "id": "functioning-retreat",
   "metadata": {
    "deletable": false,
    "editable": false
   },
   "source": [
    "#### 4.4.1 Plotting the gradient field\n",
    "\n",
    "We can plot this field, but have to take a bit of care with a couple of things. First, plotting the field at _every_ pixel location will give us a very dense collection of vectors. The density of the vectors can sometimes make it very difficult to understand what is happening.\n",
    "\n",
    "One of the tricks to avoid this problem is to _subsample_ the vector field, displaying it, say, only every 4 or 5 pixels. We also need to make sure that we create the coordinates of where these vectors are being calculated, passing those to the plotting command as well (known as a `quiver` plot). \n",
    "\n",
    "If we apply this to the image of the square we have just analysed, we obtain the following:"
   ]
  },
  {
   "cell_type": "code",
   "execution_count": 35,
   "id": "b96d5565-8a27-4596-a582-72c4c2944673",
   "metadata": {},
   "outputs": [],
   "source": [
    "# Delete me after running for \"no solutions\" NB\n",
    "square=np.load('square.npy')\n",
    "h_m = np.asarray([[1, 1, 1],[0, 0, 0],[-1, -1, -1]],\n",
    "                 dtype='float')/6.0\n",
    "h_n = np.asarray([[1, 0, -1],[1, 0, -1],[1, 0, -1]], \n",
    "                 dtype='float')/6.0\n",
    "gm = conv2(square,h_m,'same')\n",
    "gn = conv2(square,h_n,'same')"
   ]
  },
  {
   "cell_type": "code",
   "execution_count": 36,
   "id": "afraid-overall",
   "metadata": {},
   "outputs": [
    {
     "data": {
      "text/plain": [
       "Text(0.5, 1.0, 'Image and its gradient field')"
      ]
     },
     "execution_count": 36,
     "metadata": {},
     "output_type": "execute_result"
    },
    {
     "data": {
      "image/png": "[encoded data removed]",
      "text/plain": [
       "<Figure size 432x288 with 1 Axes>"
      ]
     },
     "metadata": {
      "needs_background": "light"
     },
     "output_type": "display_data"
    }
   ],
   "source": [
    "# Code snippet showing how to overlay gradient field\n",
    "# onto the image from which it has been obtained\n",
    "# Assumes that the supplied image \"square\"\n",
    "# and the gradient field components \"gm\" and \"gn\"\n",
    "# are already defined\n",
    "\n",
    "M,N = np.shape(square)\n",
    "skip = 4\n",
    "xgrid = range(0,N)\n",
    "ygrid = range(0,M)\n",
    "x,y = np.meshgrid(xgrid,ygrid)\n",
    "plt.imshow(square,cmap='gray')\n",
    "plt.quiver(x[::skip,::skip],y[::skip,::skip],\n",
    "           gn[::skip,::skip],\n",
    "           -gm[::skip,::skip],\n",
    "           color='r',\n",
    "           scale=50)\n",
    "plt.axis('off')\n",
    "plt.title('Image and its gradient field')"
   ]
  },
  {
   "cell_type": "markdown",
   "id": "horizontal-garbage",
   "metadata": {
    "deletable": false,
    "editable": false
   },
   "source": [
    "#### 4.4.2 Magnitude of the gradient field\n",
    "\n",
    "The directional nature of the gradient operators we have used gives us the ability to deduce not only the rate of change of intensity, but also the direction. The penalty we pay for this is that, if our goal is to detect the presence of intensity edges, we have to combine the information from both gradient masks.\n",
    "\n",
    "To calculate the magnitude of the gradient field, we can take different approaches, but the one that is best in this case - since it provides almost uniform sensitivity with direction, is to compute the resultant of both components of the gradient field using the \"standard\" approach to calculating the magnitude of a vector (see also the lecture notes):\n",
    "\n",
    "$$\n",
    "|\\boldsymbol\\nabla f(m,n)| = \\sqrt{g_m^2(m,n) + g_n^2(m,n)}\n",
    "$$\n",
    "\n",
    "where $g_m(m,n)$ and $g_n(m,n)$ are the components of the gradient fields, which come from the outputs of the respective convolutions. \n",
    "\n",
    "Doing this gives us the edge strength operator, the equivalent of the second to last line in the 1D calculation at the start of this NB:"
   ]
  },
  {
   "cell_type": "code",
   "execution_count": 37,
   "id": "mineral-softball",
   "metadata": {},
   "outputs": [
    {
     "data": {
      "text/plain": [
       "Text(0.5, 1.0, 'Egde Strength')"
      ]
     },
     "execution_count": 37,
     "metadata": {},
     "output_type": "execute_result"
    },
    {
     "data": {
      "image/png": "[encoded data removed]",
      "text/plain": [
       "<Figure size 432x288 with 1 Axes>"
      ]
     },
     "metadata": {
      "needs_background": "light"
     },
     "output_type": "display_data"
    }
   ],
   "source": [
    "g = np.sqrt(gm**2 + gn**2)\n",
    "plt.imshow(g, cmap='gray')\n",
    "plt.axis('off')\n",
    "plt.title('Egde Strength')"
   ]
  },
  {
   "cell_type": "markdown",
   "id": "hired-palestine",
   "metadata": {
    "deletable": false,
    "editable": false
   },
   "source": [
    "The edge strength output can be thresholded to produce a binary edge map. The thickness of the edge map will depend on where the threshold is set, and the profile of the gradient strength result. It is **not** an edge map itself, as we have not applied any thresholding. Even though it sort of looks like one..."
   ]
  },
  {
   "cell_type": "markdown",
   "id": "given-reserve",
   "metadata": {
    "deletable": false,
    "editable": false
   },
   "source": [
    "<div style=\"background:#EEEEFF;color:black\">\n",
    "    \n",
    "**Exercise 4.5**\n",
    "\n",
    "You are given a test image stored in the file \n",
    "`circle.npy` with this notebook; apply the gradient masks to this image to estimate the two gradient components. Display the components separately as images, with a grey scale colour map, and then plot the gradient field overlaid on the circle.\n",
    "    \n",
    "</div>"
   ]
  },
  {
   "cell_type": "markdown",
   "id": "premier-jamaica",
   "metadata": {
    "deletable": false,
    "editable": false
   },
   "source": [
    "<details>\n",
    "    <summary> Click <b> here </b> for the answer to <b>Ex. 4.5</b> </summary>\n",
    "\n",
    "```python\n",
    "\n",
    "circle=np.load('circle.npy')\n",
    "h_m = np.asarray([[1, 1, 1],[0, 0, 0],[-1, -1, -1]],\n",
    "                 dtype='float')/6.0\n",
    "h_n = np.asarray([[1, 0, -1],[1, 0, -1],[1, 0, -1]], \n",
    "                 dtype='float')/6.0\n",
    "gm = conv2(circle,h_m,'same')\n",
    "gn = conv2(circle,h_n,'same')\n",
    "fig,axs = plt.subplots(1,2)\n",
    "axs[0].imshow(gm,cmap='gray')\n",
    "axs[1].imshow(gn,cmap='gray')\n",
    "    \n",
    "\n",
    "```\n",
    "\n",
    "Then, for the vector field plot:\n",
    "\n",
    "```python\n",
    "    \n",
    "M,N = np.shape(circle)\n",
    "skip = 4\n",
    "xgrid = range(0,N)\n",
    "ygrid = range(0,M)\n",
    "x,y = np.meshgrid(xgrid,ygrid)\n",
    "plt.imshow(circle,cmap='gray')\n",
    "plt.quiver(x[::skip,::skip],y[::skip,::skip],\n",
    "           gn[::skip,::skip],\n",
    "           -gm[::skip,::skip],\n",
    "           color='r',\n",
    "           scale=50)\n",
    "plt.axis('off')\n",
    "    \n",
    "```\n",
    "    \n",
    "</details>"
   ]
  },
  {
   "cell_type": "code",
   "execution_count": 38,
   "id": "1fdcfc79-e892-48ff-b44a-a64e45e215ba",
   "metadata": {},
   "outputs": [
    {
     "data": {
      "text/plain": [
       "<matplotlib.image.AxesImage at 0x12ad9f390>"
      ]
     },
     "execution_count": 38,
     "metadata": {},
     "output_type": "execute_result"
    },
    {
     "data": {
      "image/png": "[encoded data removed]",
      "text/plain": [
       "<Figure size 432x288 with 2 Axes>"
      ]
     },
     "metadata": {
      "needs_background": "light"
     },
     "output_type": "display_data"
    }
   ],
   "source": [
    "# Delete me for No Solutions\n",
    "circle=np.load('circle.npy')\n",
    "h_m = np.asarray([[1, 1, 1],[0, 0, 0],[-1, -1, -1]],\n",
    "                 dtype='float')/6.0\n",
    "h_n = np.asarray([[1, 0, -1],[1, 0, -1],[1, 0, -1]], \n",
    "                 dtype='float')/6.0\n",
    "gm = conv2(circle,h_m,'same')\n",
    "gn = conv2(circle,h_n,'same')\n",
    "fig,axs = plt.subplots(1,2)\n",
    "axs[0].imshow(gm,cmap='gray')\n",
    "axs[1].imshow(gn,cmap='gray')"
   ]
  },
  {
   "cell_type": "code",
   "execution_count": 39,
   "id": "3183b81f-429a-49ac-8e46-247d252383f7",
   "metadata": {},
   "outputs": [
    {
     "data": {
      "text/plain": [
       "(-0.5, 160.5, 160.5, -0.5)"
      ]
     },
     "execution_count": 39,
     "metadata": {},
     "output_type": "execute_result"
    },
    {
     "data": {
      "image/png": "[encoded data removed]",
      "text/plain": [
       "<Figure size 432x288 with 1 Axes>"
      ]
     },
     "metadata": {
      "needs_background": "light"
     },
     "output_type": "display_data"
    }
   ],
   "source": [
    "# Delete me for No Solutions\n",
    "M,N = np.shape(circle)\n",
    "skip = 4\n",
    "xgrid = range(0,N)\n",
    "ygrid = range(0,M)\n",
    "x,y = np.meshgrid(xgrid,ygrid)\n",
    "plt.imshow(circle,cmap='gray')\n",
    "plt.quiver(x[::skip,::skip],y[::skip,::skip],\n",
    "           gn[::skip,::skip],\n",
    "           -gm[::skip,::skip],\n",
    "           color='r',\n",
    "           scale=5)\n",
    "plt.axis('off')"
   ]
  },
  {
   "cell_type": "markdown",
   "id": "074c1bb2-11c6-4a86-ba0f-f2e1bfbb2cf3",
   "metadata": {
    "deletable": false,
    "editable": false
   },
   "source": [
    "<div class=\"alert alert-warning\">\n",
    "    \n",
    "Remember: the gradient magnitude calculation is just that: it is *not* an edge map, as we have not applied a decision process (thresholding) to decide where an edge is. \n",
    "    \n",
    "Sometimes, Prewitt and similar gradient masks are referred to as edge-detection masks. This is **wrong**. They are gradient estimation masks. What you do with the calculations after generating the gradient field component images may lead to edge detection, but that is a distinct process. To make sure you understand this, please return to the one-dimensional example at the start of this Notebook.\n",
    "\n",
    "</div>"
   ]
  },
  {
   "cell_type": "markdown",
   "id": "respective-circumstances",
   "metadata": {
    "deletable": false,
    "editable": false
   },
   "source": [
    "### 4.5 Applying Gaussian blur\n",
    "\n",
    "Applying blurring functions may used for several reasons, and one can be thought of as a simple technique of denoising or data conditioning. Even in the case of the nice clean images we are using here, there can be irregularity in results due to the presence of the discrete representations that are being used. Check out the direction of the arrows on the circle: the gradient field is beig affected by the pixellated appearance of the image.\n",
    "\n",
    "We will generate a simple 2D Gaussian and apply it to the image data, then consider the gradient field that we get. To start with, note that the isotropic 2D Gaussian, centered on (0,0) can be defined with this Equation:\n",
    "\n",
    "$$\n",
    "G(x,y;\\sigma) = \\frac{1}{2\\pi \\sigma^2}\\exp \\left \\lbrace\n",
    "-\\frac{x^2+y^2}{2\\sigma^2} \\right \\rbrace \\,\\,\\,\\,\\, Eq. (E)\n",
    "$$\n",
    "\n",
    "The multiplier of $\\frac{1}{2\\pi \\sigma^2}$ is a normalising constant that depends on the width $\\sigma$ parameter of the Gaussian, also called its scale. The normalising constant makes the 2D integral of the Gaussian equal to 1.\n",
    "\n",
    "When trying to build this function, there are different approaches, including repeated application of the approximate  mask discussed in the lecture notes, but doing that makes the value of $\\sigma$ hard to set exactly.\n",
    "\n",
    "We can also create a 2D Gaussian mask easily by sampling Eq. (E) on a discrete grid. We will use the `meshgrid` command to do this. However, there are also some tricks to remember when doing this.\n",
    "\n",
    "1. The size of the meshgrid used to make an approximate Gaussian should be dependent on the value of $\\sigma$. Otherwise, you won't get a good approximation to the smooth characteristics of the Gaussian.\n",
    "\n",
    "2. The normalising constant should be included in the spatial sampling of Eq (E), but may be a bit off, partly because of finite-sized nature of the spatial sampling (the Gaussian extends to infinity, the convolution mask should be finite in size), but also because when we apply the Gaussian by discrete 2D convolution, we want the _sum_ of the values in the Gaussian mask to be 1.\n",
    "\n",
    "To address Point 1, we need the mask to be sufficiently large. A good suggestion is to use a grid of width at least 5 times the value of $\\sigma$. To address Point 2, it is sometimes a good idea to renormalise the mask by the sum of the elements."
   ]
  },
  {
   "cell_type": "code",
   "execution_count": 40,
   "id": "greenhouse-bruce",
   "metadata": {},
   "outputs": [
    {
     "data": {
      "text/plain": [
       "<matplotlib.image.AxesImage at 0x12b1a6590>"
      ]
     },
     "execution_count": 40,
     "metadata": {},
     "output_type": "execute_result"
    },
    {
     "data": {
      "image/png": "[encoded data removed]",
      "text/plain": [
       "<Figure size 432x288 with 1 Axes>"
      ]
     },
     "metadata": {
      "needs_background": "light"
     },
     "output_type": "display_data"
    }
   ],
   "source": [
    "# I've chosen a value for sigma, sort of at random \n",
    "sigma=3\n",
    "# This makes a 2D coordinate system\n",
    "# I suggest checking the shapes/values of x and y\n",
    "x,y = np.meshgrid(range(-7,8),range(-7,8))\n",
    "\n",
    "# This is essentially radius squared\n",
    "rsquared = x**2+y**2\n",
    "# Gaussian is computed below\n",
    "Gauss = np.exp(-rsquared/(2*sigma**2))/(2*np.pi*sigma**2)\n",
    "\n",
    "# May sometimes be useful to do this\n",
    "Gauss = Gauss/np.sum(Gauss)\n",
    "\n",
    "# Visualising the Gaussian\n",
    "plt.imshow(Gauss)"
   ]
  },
  {
   "cell_type": "markdown",
   "id": "relative-michael",
   "metadata": {
    "deletable": false,
    "editable": false
   },
   "source": [
    "I find the alternative visualisation helpful in interpreting the\n",
    "Gaussian as a smoothing function...."
   ]
  },
  {
   "cell_type": "code",
   "execution_count": 41,
   "id": "ancient-excuse",
   "metadata": {},
   "outputs": [
    {
     "name": "stdout",
     "output_type": "stream",
     "text": [
      "Using matplotlib backend: MacOSX\n"
     ]
    },
    {
     "data": {
      "text/plain": [
       "<matplotlib.colorbar.Colorbar at 0x12b23cf10>"
      ]
     },
     "execution_count": 41,
     "metadata": {},
     "output_type": "execute_result"
    }
   ],
   "source": [
    "# Here is an alternative visualisation; this reminds \n",
    "# us that this is just a two dimensional function that smooths\n",
    "# the data\n",
    "%matplotlib\n",
    "fig = plt.figure(figsize=plt.figaspect(0.5))\n",
    "ax = fig.add_subplot(1, 1, 1, projection='3d')\n",
    "\n",
    "# plot a 3D surface like in the example mplot3d/surface3d_demo\n",
    "X = x\n",
    "Y = y\n",
    "\n",
    "surf = ax.plot_surface(X, Y, Gauss,\n",
    "                       linewidth=0, antialiased=False, cmap='gray')\n",
    "ax.set_zlim(0, 0.02)\n",
    "fig.colorbar(surf, shrink=0.5, aspect=10)"
   ]
  },
  {
   "cell_type": "markdown",
   "id": "mechanical-fetish",
   "metadata": {
    "deletable": false,
    "editable": false
   },
   "source": [
    "<div style=\"background:#EEEEFF;color:black\">\n",
    "    \n",
    "**Exercise 4.6**\n",
    "\n",
    "Redo the gradient vector field plot of the circle, but this time, blur the circle image first with a Gaussian with a $\\sigma$ of 3. This is sometimes described as _regularising_ the gradient calculation. Can you see any difference in the arrow directions? Note that you should use the `\"same\"` option for the convolution.\n",
    "\n",
    "NB: I recommend plotting in the external viewer if you can, using the `%matplotlib` directive; inline, you may get some artefacts.\n",
    "    \n",
    "</div>"
   ]
  },
  {
   "cell_type": "markdown",
   "id": "grand-natural",
   "metadata": {
    "deletable": false,
    "editable": false
   },
   "source": [
    "<details>\n",
    "    <summary> Click <b>here</b> for one possible answer to <b>Ex. 4.6</b>\n",
    "</summary>\n",
    "    \n",
    "```python\n",
    "%matplotlib inline\n",
    "circle=np.load('circle.npy')\n",
    "blurredcircle = conv2(circle,Gauss,'same')\n",
    "h_m = np.asarray([[1, 1, 1],[0, 0, 0],[-1, -1, -1]],\n",
    "                 dtype='float')/6.0\n",
    "h_n = np.asarray([[1, 0, -1],[1, 0, -1],[1, 0, -1]], \n",
    "                 dtype='float')/6.0\n",
    "gm = conv2(blurredcircle,h_m,'same')\n",
    "gn = conv2(blurredcircle,h_n,'same')\n",
    "\n",
    "M,N = np.shape(blurredcircle)\n",
    "skip = 4\n",
    "xgrid = range(0,N)\n",
    "ygrid = range(0,M)\n",
    "x,y = np.meshgrid(xgrid,ygrid)\n",
    "plt.imshow(circle,cmap='gray')\n",
    "plt.quiver(x[::skip,::skip],y[::skip,::skip],\n",
    "           gn[::skip,::skip],\n",
    "           -gm[::skip,::skip],\n",
    "           color='r',\n",
    "           scale=2)\n",
    "plt.axis('off')\n",
    "```\n",
    "    \n",
    "</details>"
   ]
  },
  {
   "cell_type": "code",
   "execution_count": 42,
   "id": "b2b40b7d-bb0e-4898-a5bf-d8d6e731620d",
   "metadata": {},
   "outputs": [
    {
     "data": {
      "text/plain": [
       "(-0.5, 160.5, 160.5, -0.5)"
      ]
     },
     "execution_count": 42,
     "metadata": {},
     "output_type": "execute_result"
    },
    {
     "data": {
      "image/png": "[encoded data removed]",
      "text/plain": [
       "<Figure size 432x288 with 1 Axes>"
      ]
     },
     "metadata": {
      "needs_background": "light"
     },
     "output_type": "display_data"
    }
   ],
   "source": [
    "# Delete me for No Solutions\n",
    "%matplotlib inline\n",
    "circle=np.load('circle.npy')\n",
    "blurredcircle = conv2(circle,Gauss,'same')\n",
    "h_m = np.asarray([[1, 1, 1],[0, 0, 0],[-1, -1, -1]],\n",
    "                 dtype='float')/6.0\n",
    "h_n = np.asarray([[1, 0, -1],[1, 0, -1],[1, 0, -1]], \n",
    "                 dtype='float')/6.0\n",
    "gm = conv2(blurredcircle,h_m,'same')\n",
    "gn = conv2(blurredcircle,h_n,'same')\n",
    "\n",
    "M,N = np.shape(blurredcircle)\n",
    "skip = 4\n",
    "xgrid = range(0,N)\n",
    "ygrid = range(0,M)\n",
    "x,y = np.meshgrid(xgrid,ygrid)\n",
    "plt.imshow(blurredcircle,cmap='gray')\n",
    "plt.quiver(x[::skip,::skip],y[::skip,::skip],\n",
    "           gn[::skip,::skip],\n",
    "           -gm[::skip,::skip],\n",
    "           color='r',\n",
    "           scale=2)\n",
    "plt.axis('off')"
   ]
  },
  {
   "cell_type": "markdown",
   "id": "based-marine",
   "metadata": {
    "deletable": false,
    "editable": false
   },
   "source": [
    "### 4.6 Learning Outcomes\n",
    "\n",
    "1. Appreciating the difference between linear and non-linear operations in edge detection. It is often found that the Prewitt, or similar, masks are called _edge detection_ masks. But they are **not**, and there is no such thing. The masks, applied by convolution, provide _gradient estimates_.\n",
    "\n",
    "2. Appreciating in a concrete way the steps required to go from a signal (or image) to a measure of gradient strength, and then applying a decision process to create an edge map.\n",
    "\n",
    "3. Understanding how a derivative operation can be approximated by a finite difference operation, which is really easy to understand!\n",
    "\n",
    "4. Appreciating that the finite difference operator can be implemented by one dimensional convolution.\n",
    "\n",
    "5. Getting some confidence in how to interpret the 1D convolution expression, by unravelling the summation into a series of terms.\n",
    "\n",
    "6. Reminding ourselves that convolution enables flexibility in implementing linear operators: just change the convolution mask to perform a different type of linear neighbourhood operation.\n",
    "\n",
    "7. Understanding that results of applying a pair of gradient estimation convolution masks is a pair of scalar fields that can be represented as a vector field.\n",
    "\n",
    "8. Understanding how to approximate a Gaussian convolution by sampling the equation of a continuous Gaussian, and paying attention to a couple of details."
   ]
  },
  {
   "cell_type": "markdown",
   "id": "1092b0fc-6efc-4d30-9031-be496d4d6bc2",
   "metadata": {
    "deletable": false,
    "editable": false
   },
   "source": [
    "AAB"
   ]
  },
  {
   "cell_type": "code",
   "execution_count": null,
   "id": "3127c067-452d-4184-99d8-b152f0df9997",
   "metadata": {},
   "outputs": [],
   "source": []
  }
 ],
 "metadata": {
  "kernelspec": {
   "display_name": "Python 3 (ipykernel)",
   "language": "python",
   "name": "python3"
  },
  "language_info": {
   "codemirror_mode": {
    "name": "ipython",
    "version": 3
   },
   "file_extension": ".py",
   "mimetype": "text/x-python",
   "name": "python",
   "nbconvert_exporter": "python",
   "pygments_lexer": "ipython3",
   "version": "3.9.16"
  }
 },
 "nbformat": 4,
 "nbformat_minor": 5
}
